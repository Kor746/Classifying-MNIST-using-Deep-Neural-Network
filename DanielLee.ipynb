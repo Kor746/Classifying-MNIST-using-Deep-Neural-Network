{
 "cells": [
  {
   "cell_type": "markdown",
   "metadata": {},
   "source": [
    "## CISC867 - Lab 2\n",
    "## Daniel Lee\n",
    "February 21, 2019"
   ]
  },
  {
   "cell_type": "markdown",
   "metadata": {},
   "source": [
    "## Question 1"
   ]
  },
  {
   "cell_type": "code",
   "execution_count": 39,
   "metadata": {
    "scrolled": false
   },
   "outputs": [
    {
     "data": {
      "image/png": "[encoded data removed]",
      "text/plain": [
       "<Figure size 432x288 with 1 Axes>"
      ]
     },
     "metadata": {},
     "output_type": "display_data"
    },
    {
     "name": "stdout",
     "output_type": "stream",
     "text": [
      "Input patterns:\n",
      "[[1 0]\n",
      " [0 0]\n",
      " [0 1]\n",
      " [1 1]]\n",
      "Actual label\n",
      "[[1]\n",
      " [0]\n",
      " [1]\n",
      " [0]]\n",
      "Y hot encoded:\n",
      "[[0. 1.]\n",
      " [1. 0.]\n",
      " [0. 1.]\n",
      " [1. 0.]]\n",
      "Prediction:\n",
      "[[0.00155346 0.99844654]\n",
      " [0.99790165 0.00209835]\n",
      " [0.00229568 0.99770432]\n",
      " [0.99824922 0.00175078]]\n"
     ]
    }
   ],
   "source": [
    "import numpy as np\n",
    "import random\n",
    "import matplotlib.pyplot as plt\n",
    "\n",
    "\n",
    "class Network:\n",
    "    \n",
    "    def __init__(self, alpha, input_count, hidden_count, output_count):\n",
    "        self.alpha = alpha\n",
    "        self.input_count = input_count\n",
    "        self.hidden_count = hidden_count\n",
    "        self.output_count = output_count\n",
    "    \n",
    "    def _softmax(self, z):\n",
    "        expz = np.exp(z)\n",
    "        return expz / expz.sum(axis = 1, keepdims = True);\n",
    "    \n",
    "    def _sigmoid(self, x):\n",
    "        return 1 / (1 + np.exp(-x));\n",
    "    \n",
    "    def _sigmoid_derivative(self, z):\n",
    "        return z * (1 - z);\n",
    "    \n",
    "    def init(self, X, Y, Y_hot, epochs):\n",
    "        '''The function initializes random weights and \n",
    "        biases for the network, trains the network, and predicts \n",
    "        the XOR values of the inputs.\n",
    "        '''\n",
    "        self.w1 = np.random.randn(self.input_count, self.hidden_count)\n",
    "        self.b1 = np.random.randn(self.hidden_count)\n",
    "        \n",
    "        self.w2 = np.random.randn(self.hidden_count, self.output_count)\n",
    "        self.b2 = np.random.randn(self.output_count)\n",
    "        \n",
    "        errors = self.train(X, Y, Y_hot, epochs)\n",
    "        fig,ax = plt.subplots()\n",
    "        plt.plot(errors)\n",
    "        ax.set_xlabel(\"Iterations\")\n",
    "        ax.set_ylabel(\"Error\")\n",
    "        plt.show()\n",
    "        \n",
    "        pred = self.predict(X)\n",
    "        print(\"Input patterns:\")\n",
    "        print(X)\n",
    "        print(\"Actual label\")\n",
    "        print(Y.reshape(len(Y), 1))\n",
    "        print(\"Y hot encoded:\")\n",
    "        print(Y_hot)\n",
    "        print(\"Prediction:\")\n",
    "        print(pred)\n",
    "        \n",
    "        \n",
    "    def predict(self, X):\n",
    "        '''This function predicts the XOR values using the final \n",
    "        weights and biases.\n",
    "        '''        \n",
    "        h1 = self._sigmoid(np.dot(X, self.w1) + self.b1)\n",
    "        output = self._softmax(np.dot(h1, self.w2) + self.b2)         \n",
    "        return output;\n",
    "    \n",
    "    # Mean Squared Error \n",
    "    def mse(self, y_label, y_pred):\n",
    "        return np.square(y_pred - y_label)\n",
    "    \n",
    "    # NEGATIVE LOG LIKELIHOOD\n",
    "    def nll(self, m, Y_hot, Y_pred):\n",
    "        return -(np.sum(Y_hot * np.log(Y_pred))) / m;\n",
    "\n",
    "    def forward_pass(self, X):\n",
    "        # Input -> K1; get the dot product of the weights with input and add bias\n",
    "        h1 = self._sigmoid(np.dot(X, self.w1) + self.b1)\n",
    "\n",
    "        # K1 -> Output layer; get the dot product  of the weights with input and add bias\n",
    "        output = self._softmax(np.dot(h1, self.w2) + self.b2)\n",
    "        \n",
    "        # Apply softmax activation function on resultant z and return\n",
    "        return h1, output;\n",
    "    \n",
    "    def train(self, X, Y, Y_hot, epochs):\n",
    "        '''The function performs a forward pass to obtain the \n",
    "        activation vectors, then computes the error that needs to be\n",
    "        minimized, and then performs backward propagation to\n",
    "        acquire the deltas using sigmoid prime, and then\n",
    "        updates the weights.\n",
    "        '''\n",
    "        errors = []\n",
    "        for epoch in range(epochs):\n",
    "\n",
    "            # Forward pass to get outputs\n",
    "            h1, Y_pred = self.forward_pass(X)\n",
    "\n",
    "            # Back propagation\n",
    "            d2 = Y_pred - Y_hot\n",
    "            d1 = np.dot(d2, self.w2.T) * self._sigmoid_derivative(h1)\n",
    "            \n",
    "            # Update weights and biases\n",
    "            self.w2 -= self.alpha * np.dot(h1.T, d2)\n",
    "            self.b2 -= self.alpha * np.sum(d2, axis = 0)\n",
    "\n",
    "            self.w1 -= self.alpha * np.dot(X.T, d1)\n",
    "            self.b1 -= self.alpha * np.sum(d1, axis = 0)\n",
    "\n",
    "            if epoch % 1000 == 0:\n",
    "                # Number of input patterns\n",
    "                m = X.shape[0]\n",
    "                \n",
    "                # Negative log likelihood error function\n",
    "                error = self.nll(m, Y_hot, Y_pred)\n",
    "                errors.append(error)\n",
    "                \n",
    "        return errors;\n",
    "    \n",
    "X = np.array([[1,0], [0,0], [0,1], [1,1]])\n",
    "Y = np.array([1, 0, 1, 0])\n",
    "\n",
    "# One hot encoded output\n",
    "num_classes = len(np.unique(Y, return_counts = True)[1])\n",
    "Y_hot = np.eye(num_classes)[Y]\n",
    "\n",
    "mynetwork = Network(0.01, 2, 4, 2)\n",
    "mynetwork.init(X, Y, Y_hot, 50000)\n",
    "\n",
    "\n"
   ]
  },
  {
   "cell_type": "markdown",
   "metadata": {},
   "source": [
    "## Question 2"
   ]
  },
  {
   "cell_type": "code",
   "execution_count": 49,
   "metadata": {
    "scrolled": true
   },
   "outputs": [
    {
     "name": "stdout",
     "output_type": "stream",
     "text": [
      "The complete dataset categories are [0. 1. 2. 3. 4. 5. 6. 7. 8. 9.]\n",
      "and the corresponding distribution is\n",
      "[ 9.86142857 11.25285714  9.98571429 10.20142857  9.74857143  9.01857143\n",
      "  9.82285714 10.41857143  9.75        9.94      ]\n",
      "*****************************\n",
      "For fold 1 the categories are [0. 1. 2. 3. 4. 5. 6. 7. 8. 9.]\n",
      "and the corresponding distribution is\n",
      "[ 9.87142857 12.02857143  9.92857143 10.15714286  9.78571429  8.92857143\n",
      "  9.72857143 10.48571429  9.87142857  9.21428571]\n",
      "============================\n",
      "For fold 2 the categories are [0. 1. 2. 3. 4. 5. 6. 7. 8. 9.]\n",
      "and the corresponding distribution is\n",
      "[ 9.97142857 10.78571429  9.97142857 10.34285714  9.57142857  8.8\n",
      "  9.67142857 10.48571429 10.2        10.2       ]\n",
      "============================\n",
      "For fold 3 the categories are [0. 1. 2. 3. 4. 5. 6. 7. 8. 9.]\n",
      "and the corresponding distribution is\n",
      "[ 9.94285714 10.94285714 10.01428571 10.32857143  9.54285714  8.75714286\n",
      " 10.12857143 10.98571429  9.42857143  9.92857143]\n",
      "============================\n",
      "For fold 4 the categories are [0. 1. 2. 3. 4. 5. 6. 7. 8. 9.]\n",
      "and the corresponding distribution is\n",
      "[10.08571429 11.71428571  9.75714286  9.88571429  9.74285714  9.71428571\n",
      "  9.45714286 10.25714286  9.75714286  9.62857143]\n",
      "============================\n",
      "For fold 5 the categories are [0. 1. 2. 3. 4. 5. 6. 7. 8. 9.]\n",
      "and the corresponding distribution is\n",
      "[ 9.98571429 11.05714286 10.2         9.82857143  9.97142857  8.71428571\n",
      "  9.71428571 10.48571429  9.58571429 10.45714286]\n",
      "============================\n",
      "For fold 6 the categories are [0. 1. 2. 3. 4. 5. 6. 7. 8. 9.]\n",
      "and the corresponding distribution is\n",
      "[10.44285714 11.17142857  9.65714286 10.4         9.52857143  8.57142857\n",
      "  9.72857143 10.34285714 10.08571429 10.07142857]\n",
      "============================\n",
      "For fold 7 the categories are [0. 1. 2. 3. 4. 5. 6. 7. 8. 9.]\n",
      "and the corresponding distribution is\n",
      "[10.35714286 11.08571429  9.68571429  9.97142857  9.41428571  9.17142857\n",
      " 10.34285714  9.71428571  9.97142857 10.28571429]\n",
      "============================\n",
      "For fold 8 the categories are [0. 1. 2. 3. 4. 5. 6. 7. 8. 9.]\n",
      "and the corresponding distribution is\n",
      "[ 9.65714286 11.17142857 10.02857143 10.24285714 10.37142857  8.65714286\n",
      " 10.27142857 10.37142857  9.38571429  9.84285714]\n",
      "============================\n",
      "For fold 9 the categories are [0. 1. 2. 3. 4. 5. 6. 7. 8. 9.]\n",
      "and the corresponding distribution is\n",
      "[ 9.14285714 11.14285714 10.4        10.7         9.81428571  9.18571429\n",
      "  9.57142857 10.65714286  9.58571429  9.8       ]\n",
      "============================\n",
      "For fold 10 the categories are [0. 1. 2. 3. 4. 5. 6. 7. 8. 9.]\n",
      "and the corresponding distribution is\n",
      "[ 9.15714286 11.42857143 10.21428571 10.15714286  9.74285714  9.68571429\n",
      "  9.61428571 10.4         9.62857143  9.97142857]\n",
      "============================\n"
     ]
    }
   ],
   "source": [
    "from sklearn.datasets import fetch_mldata\n",
    "import numpy as np\n",
    "from PIL import Image\n",
    "import matplotlib.pyplot as plt\n",
    "import matplotlib.image as mpimg\n",
    "from sklearn.datasets.base import get_data_home \n",
    "import scipy.io as sio\n",
    "import os\n",
    "\n",
    "## Using Sci-kit learn to load MNIST dataset\n",
    "## You can also use this code to load the data as well by placing the mnist data locally to /mnist/mldata/\n",
    "# folder_name = 'mnist'\n",
    "# mnist = fetch_mldata('MNIST original', transpose_data = True, data_home = folder_name)\n",
    "# print(get_data_home())\n",
    "# x = mnist.data\n",
    "# y = mnist.target.reshape(mnist.target.shape[0], 1)\n",
    "\n",
    "file_name = 'mnist-original.mat'\n",
    "file_path = os.path.join(get_data_home(), file_name)\n",
    "mnist = sio.loadmat(file_path)\n",
    "\n",
    "x = mnist['data'].T\n",
    "y = mnist['label'].T.reshape(mnist['label'].T.shape[0], 1)\n",
    "\n",
    "## Concatenate data with labels\n",
    "combined_mat = np.concatenate((x, y), axis = 1)\n",
    "\n",
    "## Randomize data and labels via shuffling\n",
    "# Random seed for reproducing - can be removed\n",
    "# np.random.seed(101)\n",
    "np.random.shuffle(combined_mat)\n",
    "\n",
    "## Split data and labels into 10 equal folds\n",
    "num_folds = 10\n",
    "folds = np.split(combined_mat, num_folds)\n",
    "\n",
    "## Statistics on each fold\n",
    "# Distribution of complete data set    \n",
    "# Getting categories\n",
    "complete_count_labels = np.unique(y, return_counts = True)[0]\n",
    "\n",
    "# Getting percentage\n",
    "complete_counts = np.divide(np.unique(y, return_counts = True)[1], y.shape[0]) * 100.0\n",
    "print('The complete dataset categories are', complete_count_labels)\n",
    "print('and the corresponding distribution is')\n",
    "print(complete_counts)\n",
    "print('*****************************')\n",
    "\n",
    "# Distribution in each fold\n",
    "fold_ind = 1\n",
    "for fold in folds:  \n",
    "    labels = np.split(fold, [fold.shape[1] - 1], axis = 1)[1]\n",
    "    fold_total_size = len(labels)\n",
    "    \n",
    "    #Getting categories\n",
    "    fold_labels = np.unique(labels, return_counts = True)[0]\n",
    "    \n",
    "    # Getting percentage\n",
    "    fold_counts = np.divide(np.unique(labels, return_counts = True)[1], fold_total_size) * 100.0\n",
    "    print('For fold', fold_ind, 'the categories are', fold_labels)\n",
    "    print('and the corresponding distribution is')\n",
    "    print(fold_counts)\n",
    "    print('============================')\n",
    "    \n",
    "    fold_ind += 1\n",
    "\n",
    "## IGNORE: For testing purposes only - Checks number of images per fold\n",
    "# for i in folds:\n",
    "#     num_instances = 0\n",
    "#     for j in i:\n",
    "#         num_instances += 1\n",
    "#     print(num_instances)"
   ]
  },
  {
   "cell_type": "code",
   "execution_count": 50,
   "metadata": {},
   "outputs": [
    {
     "data": {
      "image/png": "[encoded data removed]",
      "text/plain": [
       "<Figure size 432x288 with 1 Axes>"
      ]
     },
     "metadata": {},
     "output_type": "display_data"
    },
    {
     "name": "stdout",
     "output_type": "stream",
     "text": [
      "image0.png belongs to category 4.0\n"
     ]
    },
    {
     "data": {
      "image/png": "[encoded data removed]",
      "text/plain": [
       "<Figure size 432x288 with 1 Axes>"
      ]
     },
     "metadata": {},
     "output_type": "display_data"
    },
    {
     "name": "stdout",
     "output_type": "stream",
     "text": [
      "image1.png belongs to category 3.0\n"
     ]
    },
    {
     "data": {
      "image/png": "[encoded data removed]",
      "text/plain": [
       "<Figure size 432x288 with 1 Axes>"
      ]
     },
     "metadata": {},
     "output_type": "display_data"
    },
    {
     "name": "stdout",
     "output_type": "stream",
     "text": [
      "image2.png belongs to category 0.0\n"
     ]
    },
    {
     "data": {
      "image/png": "[encoded data removed]",
      "text/plain": [
       "<Figure size 432x288 with 1 Axes>"
      ]
     },
     "metadata": {},
     "output_type": "display_data"
    },
    {
     "name": "stdout",
     "output_type": "stream",
     "text": [
      "image3.png belongs to category 1.0\n"
     ]
    },
    {
     "data": {
      "image/png": "[encoded data removed]",
      "text/plain": [
       "<Figure size 432x288 with 1 Axes>"
      ]
     },
     "metadata": {},
     "output_type": "display_data"
    },
    {
     "name": "stdout",
     "output_type": "stream",
     "text": [
      "image4.png belongs to category 8.0\n"
     ]
    },
    {
     "data": {
      "image/png": "[encoded data removed]",
      "text/plain": [
       "<Figure size 432x288 with 1 Axes>"
      ]
     },
     "metadata": {},
     "output_type": "display_data"
    },
    {
     "name": "stdout",
     "output_type": "stream",
     "text": [
      "image5.png belongs to category 3.0\n"
     ]
    },
    {
     "data": {
      "image/png": "[encoded data removed]",
      "text/plain": [
       "<Figure size 432x288 with 1 Axes>"
      ]
     },
     "metadata": {},
     "output_type": "display_data"
    },
    {
     "name": "stdout",
     "output_type": "stream",
     "text": [
      "image6.png belongs to category 6.0\n"
     ]
    },
    {
     "data": {
      "image/png": "[encoded data removed]",
      "text/plain": [
       "<Figure size 432x288 with 1 Axes>"
      ]
     },
     "metadata": {},
     "output_type": "display_data"
    },
    {
     "name": "stdout",
     "output_type": "stream",
     "text": [
      "image7.png belongs to category 3.0\n"
     ]
    },
    {
     "data": {
      "image/png": "[encoded data removed]",
      "text/plain": [
       "<Figure size 432x288 with 1 Axes>"
      ]
     },
     "metadata": {},
     "output_type": "display_data"
    },
    {
     "name": "stdout",
     "output_type": "stream",
     "text": [
      "image8.png belongs to category 4.0\n"
     ]
    },
    {
     "data": {
      "image/png": "[encoded data removed]",
      "text/plain": [
       "<Figure size 432x288 with 1 Axes>"
      ]
     },
     "metadata": {},
     "output_type": "display_data"
    },
    {
     "name": "stdout",
     "output_type": "stream",
     "text": [
      "image9.png belongs to category 2.0\n"
     ]
    }
   ],
   "source": [
    "# Random seed for reproducing - can be removed\n",
    "# np.random.seed(101)\n",
    "\n",
    "## Display one random picture from each fold with category\n",
    "num_ind = 1\n",
    "for fold_ind in range(0, len(folds)):\n",
    "    \n",
    "    image_ind = np.random.choice(folds[fold_ind].shape[1], num_ind, replace = False)\n",
    "    image_list = folds[fold_ind][image_ind][0]\n",
    "    \n",
    "    image = image_list[:folds[fold_ind].shape[1] - 1]\n",
    "    category = image_list[-1]\n",
    "    \n",
    "    arr = np.array(image.reshape(28, 28) , dtype = np.uint8)\n",
    "\n",
    "    img = Image.fromarray(arr)\n",
    "    \n",
    "    # Produces a random image from each fold\n",
    "    img_name = 'image' + str(fold_ind) + '.png'\n",
    "    \n",
    "    # Saves image locally\n",
    "    img.save(img_name)\n",
    "\n",
    "    # Display images\n",
    "    img_output = mpimg.imread(img_name)\n",
    "    plt.imshow(img_output, cmap = 'gray')\n",
    "    plt.show()\n",
    "    print(img_name, 'belongs to category', category)\n",
    "\n"
   ]
  },
  {
   "cell_type": "code",
   "execution_count": 58,
   "metadata": {},
   "outputs": [
    {
     "name": "stdout",
     "output_type": "stream",
     "text": [
      "Train set X dimensions: (56000, 784)\n",
      "Train set Y one hot dimensions: (56000, 10)\n",
      "===================\n",
      "Validation set X dimensions: (7000, 784)\n",
      "Validation set Y one hot set dimensions: (7000, 10)\n",
      "===================\n",
      "Test set X dimensions: (7000, 784)\n",
      "Test set Y one hot dimensions: (7000, 10)\n"
     ]
    }
   ],
   "source": [
    "## Generates required sets: train, test, validation\n",
    "# Create the folds\n",
    "train_folds = folds[:8]\n",
    "test_fold = folds[-2]\n",
    "val_fold = folds[-1]\n",
    "\n",
    "# Stack the 8 folds together\n",
    "train_folds_stacked = np.vstack(train_folds)\n",
    "\n",
    "# Split X and Y\n",
    "train_x, train_y = np.split(train_folds_stacked, [train_folds_stacked.shape[1] - 1], axis = 1)\n",
    "test_x, test_y = np.split(test_fold, [test_fold.shape[1] - 1], axis = 1)\n",
    "val_x, val_y = np.split(val_fold, [val_fold.shape[1] - 1], axis = 1)\n",
    "\n",
    "# Convert matrix into a long row vector\n",
    "train_set_x = np.squeeze(np.asarray(train_x))\n",
    "test_set_x = np.squeeze(np.asarray(test_x))\n",
    "val_set_x = np.squeeze(np.asarray(val_x))\n",
    "\n",
    "# One hot encode Y\n",
    "num_unique_classes = len(np.unique(train_y, return_counts = True)[0])\n",
    "\n",
    "train_y = train_y.reshape(-1).astype(dtype='uint8')\n",
    "train_set_y = np.eye(num_unique_classes)[train_y]\n",
    "\n",
    "test_y = test_y.reshape(-1).astype(dtype='uint8')\n",
    "test_set_y = np.eye(num_unique_classes)[test_y]\n",
    "\n",
    "val_y = val_y.reshape(-1).astype(dtype='uint8')\n",
    "val_set_y = np.eye(num_unique_classes)[val_y]\n",
    "\n",
    "\n",
    "print('Train set X dimensions:', train_set_x.shape)\n",
    "print('Train set Y one hot dimensions:', train_set_y.shape)\n",
    "print('===================')\n",
    "print('Validation set X dimensions:', val_set_x.shape)\n",
    "print('Validation set Y one hot set dimensions:', val_set_y.shape)\n",
    "print('===================')\n",
    "print('Test set X dimensions:', test_set_x.shape)\n",
    "print('Test set Y one hot dimensions:', test_set_y.shape)\n",
    "# print('Train set Y dimensions:', train_y.shape)\n",
    "# print('Test set Y dimensions:', test_y.shape)\n",
    "# print('Validation Y set dimensions:', val_y.shape)\n",
    "# print('===================')\n",
    "\n",
    "\n"
   ]
  },
  {
   "cell_type": "markdown",
   "metadata": {},
   "source": [
    "## Question 3"
   ]
  },
  {
   "cell_type": "code",
   "execution_count": 59,
   "metadata": {
    "scrolled": false
   },
   "outputs": [
    {
     "name": "stdout",
     "output_type": "stream",
     "text": [
      "Epoch 0\n",
      "Validation err: 25.003245049461466\n",
      "Epoch 1\n",
      "Validation err: 19.469504879199757\n",
      "Epoch 2\n",
      "Validation err: 17.921208107615517\n",
      "Epoch 3\n",
      "Validation err: 15.438337459161714\n",
      "Epoch 4\n",
      "Validation err: 14.501867713274889\n",
      "Epoch 5\n",
      "Validation err: 10.827050274139255\n",
      "Epoch 6\n",
      "Validation err: 9.66772724784029\n",
      "Epoch 7\n",
      "Validation err: 9.318400328236152\n",
      "Epoch 8\n",
      "Validation err: 9.89017026404612\n",
      "Epoch 9\n",
      "Validation err: 7.999566219525017\n",
      "Epoch 10\n",
      "Validation err: 8.632165312210883\n",
      "Epoch 11\n",
      "Validation err: 7.04861738940707\n",
      "Epoch 12\n",
      "Validation err: 6.361018850978218\n",
      "Training error plot\n"
     ]
    },
    {
     "data": {
      "image/png": "[encoded data removed]",
      "text/plain": [
       "<Figure size 432x288 with 1 Axes>"
      ]
     },
     "metadata": {},
     "output_type": "display_data"
    },
    {
     "name": "stdout",
     "output_type": "stream",
     "text": [
      "Validation error plot\n"
     ]
    },
    {
     "data": {
      "image/png": "[encoded data removed]",
      "text/plain": [
       "<Figure size 432x288 with 1 Axes>"
      ]
     },
     "metadata": {},
     "output_type": "display_data"
    },
    {
     "name": "stdout",
     "output_type": "stream",
     "text": [
      "Test set accuracy: 0.5385714285714286\n",
      "\n",
      "Predictions: [[1.55536539e-19 1.00000000e+00 7.12256616e-25 ... 1.10844321e-13\n",
      "  5.22377157e-19 1.86351068e-23]\n",
      " [3.02445591e-26 1.00000000e+00 1.44646822e-10 ... 5.68352320e-14\n",
      "  9.95656169e-18 7.55524322e-29]\n",
      " [9.91580489e-07 9.70307275e-06 5.09731560e-12 ... 3.84658650e-03\n",
      "  2.45763814e-03 2.42630858e-04]\n",
      " ...\n",
      " [1.50345195e-14 8.03577481e-15 4.89213983e-21 ... 9.99999984e-01\n",
      "  7.03814741e-21 3.31952692e-17]\n",
      " [9.99673965e-01 5.31823013e-15 3.51125594e-16 ... 9.13334382e-10\n",
      "  8.05601956e-13 9.33978268e-09]\n",
      " [8.04183910e-09 5.23885860e-18 3.19161507e-14 ... 3.28230831e-16\n",
      "  9.60823881e-09 2.42799798e-14]]\n"
     ]
    }
   ],
   "source": [
    "import numpy as np\n",
    "import random\n",
    "import matplotlib.pyplot as plt\n",
    "\n",
    "# Random seed for reproducing - can be removed\n",
    "# np.random.seed(123)\n",
    "\n",
    "class Network:\n",
    "    \n",
    "    def __init__(self, alpha, input_count, hidden_count, output_count):\n",
    "        self.alpha = alpha\n",
    "        self.input_count = input_count\n",
    "        self.hidden_count = hidden_count\n",
    "        self.output_count = output_count\n",
    "        self.val_err_list = []\n",
    "        self.patience = 0\n",
    "        self.current_index = 0\n",
    "         \n",
    "    def _softmax(self, z):\n",
    "        # Stable softmax to counter over or underflow\n",
    "        expz = np.exp(z)\n",
    "        return expz / expz.sum(axis = 1, keepdims = True);\n",
    "    \n",
    "    def _sigmoid(self, x):\n",
    "        return 1 / (1 + np.exp(-x));\n",
    "    \n",
    "    def _sigmoid_derivative(self, z):\n",
    "        return z * (1 - z);\n",
    "    \n",
    "    def init(self, X, Y, Y_hot, test_set_x, test_set_y, val_set_x, val_set_y, epochs):\n",
    "        '''The function initializes random weights and \n",
    "        biases for the network, trains the network, and predicts \n",
    "        the XOR values of the inputs.\n",
    "        '''\n",
    "        self.w1 = np.random.randn(self.input_count, self.hidden_count)\n",
    "        self.b1 = np.random.randn(self.hidden_count)\n",
    "        \n",
    "        self.w2 = np.random.randn(self.hidden_count, self.output_count)\n",
    "        self.b2 = np.random.randn(self.output_count)\n",
    "        \n",
    "        errors = self.train(X, Y, Y_hot, val_set_x, val_set_y, epochs)\n",
    "        \n",
    "        # Training error plot\n",
    "        print('Training error plot')\n",
    "        fig, ax = plt.subplots()\n",
    "        plt.plot(errors)\n",
    "        ax.set_xlabel(\"Iterations\")\n",
    "        ax.set_ylabel(\"Error\")\n",
    "        plt.show()\n",
    "        \n",
    "        # Validation error plot\n",
    "        val_errors = self.val_err_list\n",
    "        print(\"Validation error plot\")\n",
    "        fig2, ax2 = plt.subplots()\n",
    "        plt.plot(val_errors)\n",
    "        ax2.set_xlabel(\"Iterations\")\n",
    "        ax2.set_ylabel(\"Error\")\n",
    "        plt.show()\n",
    "        \n",
    "        # Test set accuracy\n",
    "        self.test_accuracy(test_set_x, test_set_y)\n",
    "        \n",
    "        pred = self.predict(X)\n",
    "        print('Predictions:', pred)\n",
    "        \n",
    "    def predict(self, X):\n",
    "        '''This function predicts the XOR values using the final \n",
    "        weights and biases.\n",
    "        '''        \n",
    "        h1 = self._sigmoid(np.dot(X, self.w1) + self.b1)\n",
    "        output = self._softmax(np.dot(h1, self.w2) + self.b2)         \n",
    "        return output;\n",
    "    \n",
    "    # Mean Squared Error \n",
    "    def mse(self, y_label, y_pred):\n",
    "        return np.square(y_pred - y_label)\n",
    "    \n",
    "    # NEGATIVE LOG LIKELIHOOD\n",
    "    def nll(self, m, Y_hot, Y_pred):\n",
    "        return -(np.sum(Y_hot * np.log(Y_pred))) / m;\n",
    "\n",
    "    def forward_pass(self, X):\n",
    "        # Input -> K1; get the dot product of the weights with input and add bias\n",
    "        h1 = self._sigmoid(np.dot(X, self.w1) + self.b1)\n",
    "        \n",
    "        # K1 -> Output layer; get the dot product  of the weights with input and add bias\n",
    "        output = self._softmax(np.dot(h1, self.w2) + self.b2)\n",
    "        \n",
    "        # Apply softmax activation function on resultant z and return\n",
    "        return h1, output;\n",
    "    \n",
    "\n",
    "    def train(self, X, Y, Y_hot, val_set_x, val_set_y, epochs):\n",
    "        '''The function performs a forward pass to obtain the \n",
    "        activation vectors, then computes the error that needs to be\n",
    "        minimized, and then performs backward propagation to\n",
    "        acquire the deltas using sigmoid prime, and then\n",
    "        updates the weights.\n",
    "        '''\n",
    "        \n",
    "        errors = []\n",
    "        early_stopping = False\n",
    "        for epoch in range(epochs):\n",
    "            print('Epoch', epoch) \n",
    "            # Forward pass to get outputs\n",
    "            h1, Y_pred = self.forward_pass(X)\n",
    "\n",
    "            # Back propagation\n",
    "            d2 = Y_pred - Y_hot\n",
    "            d1 = np.dot(d2, self.w2.T) * self._sigmoid_derivative(h1)\n",
    "            \n",
    "            # Update weights and biases\n",
    "            self.w2 -= self.alpha * np.dot(h1.T, d2)\n",
    "            self.b2 -= self.alpha * np.sum(d2, axis = 0)\n",
    "\n",
    "            self.w1 -= self.alpha * np.dot(X.T, d1)\n",
    "            self.b1 -= self.alpha * np.sum(d1, axis = 0)\n",
    "\n",
    "#             if epoch % 1000 == 0:\n",
    "            # Number of input patterns\n",
    "            m = X.shape[0]\n",
    "\n",
    "            # Negative log likelihood error function\n",
    "            error = self.nll(m, Y_hot, Y_pred)\n",
    "\n",
    "            errors.append(error)\n",
    "                \n",
    "            # Early stopping with validation set\n",
    "            if self.early_stopping(val_set_x, val_set_y) == True:\n",
    "                return errors;\n",
    "            \n",
    "        return errors;\n",
    "    \n",
    "    def test_accuracy(self, test_set_x, test_set_y):\n",
    "        h1 = self._sigmoid(np.dot(test_set_x, self.w1) + self.b1)\n",
    "        output = self._softmax(np.dot(h1, self.w2) + self.b2)\n",
    "        size = test_set_y.shape[0]\n",
    "        val_accuracy = len(test_set_y[np.argmax(output, axis = 1) == np.argmax(test_set_y, axis = 1)]) / size\n",
    "        print(\"Test set accuracy:\", val_accuracy)\n",
    "        print()\n",
    "        \n",
    "    def early_stopping(self, val_set_x, val_set_y):\n",
    "        m = val_set_x.shape[0]\n",
    "        h1 = self._sigmoid(np.dot(val_set_x, self.w1) + self.b1)\n",
    "        output = self._softmax(np.dot(h1, self.w2) + self.b2)\n",
    "        \n",
    "        val_err = self.nll(m, val_set_y, output)\n",
    "        self.val_err_list.append(val_err)\n",
    "        print('Validation err:', val_err)\n",
    "        if len(self.val_err_list) > 1:\n",
    "            delta = self.val_err_list[self.current_index] - self.val_err_list[self.current_index - 1]\n",
    "            if delta <= 0:\n",
    "                self.patience += 1\n",
    "\n",
    "            if self.patience == 10:\n",
    "                return True;\n",
    "            \n",
    "        self.current_index += 1\n",
    "        \n",
    "# Using MNIST data\n",
    "mynetwork = Network(0.00001, 784, 1000, 10)\n",
    "mynetwork.init(train_set_x, train_y, train_set_y, \n",
    "               test_set_x, test_set_y, val_set_x, \n",
    "               val_set_y, 50000)\n",
    "\n",
    "\n",
    "\n"
   ]
  },
  {
   "cell_type": "markdown",
   "metadata": {},
   "source": [
    "## Question 4"
   ]
  },
  {
   "cell_type": "markdown",
   "metadata": {},
   "source": [
    "Conventionally, softmax is utilized for multi-class tasks, whereas sigmoid is utilized for binary classification. Sigmoid ranges from 0 to 1 and have outputs that are independent, whereas softmax produces class probability distributions that sum up to 1. Negative log likelihood, also known as cross entropy is a common alternative squared error technique with softmax activations because negative log likelihoods works well with probability distributions, and node activations can be represented where either hypothesis can be true. If instead of using softmax activation and negative log likelihood cost, we use sigmoidal activation functions for the output units and the sum of square error of each output then I would expect that the outputs of the sigmoid function with mean squared error cost would be independent from each other (0 to 1), increase chances of stalling in training (in comparison to softmax), and the model would be less accurate. By using negative log likelihood with softmax activation helps remove the term (y * (1 - y) )in the equation, which helps prevent stallout in training because if y is high in this term then the resulting term value in the gradient gets much smaller. In addition, mean squared error with this dataset can be inaccurate as would emphasizes the errors in the output too much. With this dataset being a multi-class problem, it would make sense to use softmax and negative log likelihood for the listed reasons. For example, if the output is 0.8, the weight adjustments get much smaller, which could. Hence, using softmax and negative likelihood for this dataset is more likely to reduce stallout and improve accuracy as it removes. Furthermore, choosing these hyper parameters are highly dependent upon what you are looking to solve."
   ]
  },
  {
   "cell_type": "markdown",
   "metadata": {},
   "source": [
    "## Question 5"
   ]
  },
  {
   "cell_type": "markdown",
   "metadata": {},
   "source": [
    "If instead of using softmax activation and negative log likelihood cost, we use a single linear output unit trained on the actual class number using sum squared error cost I would expect that the single linear output unit with sum squared error (e.g., ReLu, linear regression) could suffer from the vanishing gradient problem, which will prevent the weights from further adjusting, and the network will not converge. The reason why this may happen with a single linear output unit with a sum squared error is due to the unbounded nature of the function. In addition, if the training does complete I would expect the result to be inaccurate because the value is unbounded and not a probability distribution. For example, in ReLu (i.e., max(0,y)) the output is unbounded and could produce a high value that is greater than 1, which could mislead the classification by associating a high value with the most desirable class, when it may actually not be."
   ]
  }
 ],
 "metadata": {
  "kernelspec": {
   "display_name": "Python 3",
   "language": "python",
   "name": "python3"
  },
  "language_info": {
   "codemirror_mode": {
    "name": "ipython",
    "version": 3
   },
   "file_extension": ".py",
   "mimetype": "text/x-python",
   "name": "python",
   "nbconvert_exporter": "python",
   "pygments_lexer": "ipython3",
   "version": "3.6.5"
  }
 },
 "nbformat": 4,
 "nbformat_minor": 2
}
